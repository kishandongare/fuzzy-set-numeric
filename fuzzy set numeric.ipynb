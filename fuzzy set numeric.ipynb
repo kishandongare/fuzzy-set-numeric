{
 "cells": [
  {
   "cell_type": "code",
   "execution_count": 2,
   "metadata": {},
   "outputs": [],
   "source": [
    "import numpy as np"
   ]
  },
  {
   "cell_type": "code",
   "execution_count": 3,
   "metadata": {},
   "outputs": [
    {
     "name": "stdout",
     "output_type": "stream",
     "text": [
      "Enter the element:40\n",
      " 1. More or less young --> 0.24253562503633297\n",
      " 2. Not young and not old -->  0.9411764705882353\n",
      " 3. Young but not too young -->  0.058823529411764705\n",
      " 4. Extremely old --> 0.0002366863905325444\n"
     ]
    }
   ],
   "source": [
    "x=float(input(\"Enter the element:\"))\n",
    "mem_young = 1/(1+abs((x-0)/20)**(2 * 2))\n",
    "mem_old = 1/(1+abs((x-100)/30)**(2 * 3))\n",
    "print(' 1. More or less young --> {}'.format(np.sqrt(mem_young))) # dialte\n",
    "\n",
    "print(' 2. Not young and not old --> ', min((1-mem_young),(1-mem_old)))\n",
    "\n",
    "print(' 3. Young but not too young --> ', min(mem_young,(1-(mem_young)**2)))\n",
    "\n",
    "print(' 4. Extremely old --> {}'.format((mem_old)**2))"
   ]
  },
  {
   "cell_type": "code",
   "execution_count": null,
   "metadata": {},
   "outputs": [],
   "source": []
  }
 ],
 "metadata": {
  "kernelspec": {
   "display_name": "Python 3",
   "language": "python",
   "name": "python3"
  },
  "language_info": {
   "codemirror_mode": {
    "name": "ipython",
    "version": 3
   },
   "file_extension": ".py",
   "mimetype": "text/x-python",
   "name": "python",
   "nbconvert_exporter": "python",
   "pygments_lexer": "ipython3",
   "version": "3.7.0"
  }
 },
 "nbformat": 4,
 "nbformat_minor": 4
}
